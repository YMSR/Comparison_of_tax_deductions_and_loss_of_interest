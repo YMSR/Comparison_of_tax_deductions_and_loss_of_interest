{
 "cells": [
  {
   "cell_type": "code",
   "execution_count": 1,
   "id": "896bab14-8192-478e-b361-1e3dc621595d",
   "metadata": {},
   "outputs": [],
   "source": [
    "import pandas as pd\n",
    "import numpy as np\n",
    "import matplotlib.pyplot as plt\n",
    "import japanize_matplotlib"
   ]
  },
  {
   "cell_type": "code",
   "execution_count": 2,
   "id": "d30baef8-8fc0-40a2-b988-94acc837a71b",
   "metadata": {},
   "outputs": [
    {
     "data": {
      "text/plain": [
       "37000000"
      ]
     },
     "execution_count": 2,
     "metadata": {},
     "output_type": "execute_result"
    }
   ],
   "source": [
    "#物件費用\n",
    "property_price = 34400000 #物件価格\n",
    "sundry_expenses = 1900000 #諸経費\n",
    "option_costs = 700000 #オプション費\n",
    "total_costs = property_price + sundry_expenses + option_costs #総額\n",
    "total_costs"
   ]
  },
  {
   "cell_type": "code",
   "execution_count": 3,
   "id": "241a3a28-d517-4423-9844-184aef3293f9",
   "metadata": {},
   "outputs": [],
   "source": [
    "#ローン情報\n",
    "borrowing_period = 50 #借用期間\n",
    "interest_rates = 1.0 #固定金利(変動金利は推移が読めないため、固定金利で計算)\n",
    "repayment_method = [0,1] #元利均等返済と元金均等返済 Equalization of profits or Equal repayment of total_costs\n",
    "deposit = 5000000 #頭金\n",
    "mortgage_deduction = 0.7 #住宅ローン控除: 0.7% × 年末ローン残高（最大13年間）Loan balance at year-end (up to 13 years)"
   ]
  },
  {
   "cell_type": "code",
   "execution_count": 4,
   "id": "0104283c-fd4e-46cd-8649-f970fe268216",
   "metadata": {},
   "outputs": [],
   "source": [
    "def calculate_monthly_payment(total_costs, annual_interest_rate, years):\n",
    "    monthly_interest = annual_interest_rate / 12 / 100 # 月利率を計算\n",
    "    borrowing_period_month = years * 12 # 返済期間を月数で計算\n",
    "    monthly_payment = (total_costs * monthly_interest * (1 + monthly_interest) ** borrowing_period_month) / ((1 + monthly_interest) ** borrowing_period_month - 1) # 毎月の支払い額を計算する数式\n",
    "\n",
    "    return monthly_payment\n"
   ]
  },
  {
   "cell_type": "code",
   "execution_count": 5,
   "id": "6f154baf-e8e1-4756-becb-04f8dffde516",
   "metadata": {},
   "outputs": [
    {
     "name": "stdout",
     "output_type": "stream",
     "text": [
      "毎月の支払い額は約 78388 円です。\n"
     ]
    }
   ],
   "source": [
    "monthly_payment = calculate_monthly_payment(total_costs, interest_rates, borrowing_period)\n",
    "print(f'毎月の支払い額は約 {monthly_payment:.0f} 円です。')"
   ]
  },
  {
   "cell_type": "code",
   "execution_count": null,
   "id": "5f0df10f-8b97-4d07-8dce-4f47fae6393a",
   "metadata": {},
   "outputs": [],
   "source": []
  }
 ],
 "metadata": {
  "kernelspec": {
   "display_name": "Python 3 (ipykernel)",
   "language": "python",
   "name": "python3"
  },
  "language_info": {
   "codemirror_mode": {
    "name": "ipython",
    "version": 3
   },
   "file_extension": ".py",
   "mimetype": "text/x-python",
   "name": "python",
   "nbconvert_exporter": "python",
   "pygments_lexer": "ipython3",
   "version": "3.11.6"
  }
 },
 "nbformat": 4,
 "nbformat_minor": 5
}
